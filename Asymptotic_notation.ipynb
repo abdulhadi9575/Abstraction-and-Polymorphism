{
  "nbformat": 4,
  "nbformat_minor": 0,
  "metadata": {
    "colab": {
      "provenance": [],
      "authorship_tag": "ABX9TyM7LC/xJ3apc0fG5JRDa8Yd",
      "include_colab_link": true
    },
    "kernelspec": {
      "name": "python3",
      "display_name": "Python 3"
    },
    "language_info": {
      "name": "python"
    }
  },
  "cells": [
    {
      "cell_type": "markdown",
      "metadata": {
        "id": "view-in-github",
        "colab_type": "text"
      },
      "source": [
        "<a href=\"https://colab.research.google.com/github/abdulhadi9575/Abstraction-and-Polymorphism/blob/main/Asymptotic_notation.ipynb\" target=\"_parent\"><img src=\"https://colab.research.google.com/assets/colab-badge.svg\" alt=\"Open In Colab\"/></a>"
      ]
    },
    {
      "cell_type": "code",
      "execution_count": 1,
      "metadata": {
        "colab": {
          "base_uri": "https://localhost:8080/"
        },
        "id": "_QVZP2LjGjbT",
        "outputId": "2ec64214-00a5-4b8a-dbf4-2557e3a35f61"
      },
      "outputs": [
        {
          "output_type": "stream",
          "name": "stdout",
          "text": [
            "the total number entered my user is 10\n",
            "total literation done by computer is 1 \n",
            "\n",
            "the total number entered my user is 200\n",
            "total literation done by computer is 1 \n",
            "\n"
          ]
        }
      ],
      "source": [
        "def printnumber(n):\n",
        "  literation=0\n",
        "  print(\"the total number entered my user is\",n)\n",
        "  literation+=1\n",
        "  print(\"total literation done by computer is\",literation,\"\\n\")\n",
        "printnumber(10)\n",
        "printnumber(200)"
      ]
    },
    {
      "cell_type": "code",
      "source": [
        "def abc(n):\n",
        "  a=0\n",
        "  for i in range(1,n+1):\n",
        "    a=a+1\n",
        "  print(n,a)\n",
        "abc(10)\n",
        "abc(20)"
      ],
      "metadata": {
        "colab": {
          "base_uri": "https://localhost:8080/"
        },
        "id": "B_cZIUhUH3Pp",
        "outputId": "7396b955-3762-4240-fe77-917eff0d8e85"
      },
      "execution_count": 2,
      "outputs": [
        {
          "output_type": "stream",
          "name": "stdout",
          "text": [
            "10 10\n",
            "20 20\n"
          ]
        }
      ]
    },
    {
      "cell_type": "code",
      "source": [
        "def abc(n):\n",
        "  a=0\n",
        "  for i in range(0,n):\n",
        "    for j in range(0,n):\n",
        "      print(\"*\",end=\" \")\n",
        "      a=a+1\n",
        "    print()\n",
        "  print(n,a)\n",
        "abc(10)\n",
        "abc(20)"
      ],
      "metadata": {
        "colab": {
          "base_uri": "https://localhost:8080/"
        },
        "id": "V8X7nS8XIbPG",
        "outputId": "5bfb2e29-742a-4a54-f616-b0e4c13fcf3c"
      },
      "execution_count": 3,
      "outputs": [
        {
          "output_type": "stream",
          "name": "stdout",
          "text": [
            "* * * * * * * * * * \n",
            "* * * * * * * * * * \n",
            "* * * * * * * * * * \n",
            "* * * * * * * * * * \n",
            "* * * * * * * * * * \n",
            "* * * * * * * * * * \n",
            "* * * * * * * * * * \n",
            "* * * * * * * * * * \n",
            "* * * * * * * * * * \n",
            "* * * * * * * * * * \n",
            "10 100\n",
            "* * * * * * * * * * * * * * * * * * * * \n",
            "* * * * * * * * * * * * * * * * * * * * \n",
            "* * * * * * * * * * * * * * * * * * * * \n",
            "* * * * * * * * * * * * * * * * * * * * \n",
            "* * * * * * * * * * * * * * * * * * * * \n",
            "* * * * * * * * * * * * * * * * * * * * \n",
            "* * * * * * * * * * * * * * * * * * * * \n",
            "* * * * * * * * * * * * * * * * * * * * \n",
            "* * * * * * * * * * * * * * * * * * * * \n",
            "* * * * * * * * * * * * * * * * * * * * \n",
            "* * * * * * * * * * * * * * * * * * * * \n",
            "* * * * * * * * * * * * * * * * * * * * \n",
            "* * * * * * * * * * * * * * * * * * * * \n",
            "* * * * * * * * * * * * * * * * * * * * \n",
            "* * * * * * * * * * * * * * * * * * * * \n",
            "* * * * * * * * * * * * * * * * * * * * \n",
            "* * * * * * * * * * * * * * * * * * * * \n",
            "* * * * * * * * * * * * * * * * * * * * \n",
            "* * * * * * * * * * * * * * * * * * * * \n",
            "* * * * * * * * * * * * * * * * * * * * \n",
            "20 400\n"
          ]
        }
      ]
    }
  ]
}