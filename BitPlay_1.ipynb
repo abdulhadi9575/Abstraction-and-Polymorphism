{
  "nbformat": 4,
  "nbformat_minor": 0,
  "metadata": {
    "colab": {
      "provenance": [],
      "authorship_tag": "ABX9TyMQCL5adFbSs2IwdM/F3/qX",
      "include_colab_link": true
    },
    "kernelspec": {
      "name": "python3",
      "display_name": "Python 3"
    },
    "language_info": {
      "name": "python"
    }
  },
  "cells": [
    {
      "cell_type": "markdown",
      "metadata": {
        "id": "view-in-github",
        "colab_type": "text"
      },
      "source": [
        "<a href=\"https://colab.research.google.com/github/abdulhadi9575/Abstraction-and-Polymorphism/blob/main/BitPlay_1.ipynb\" target=\"_parent\"><img src=\"https://colab.research.google.com/assets/colab-badge.svg\" alt=\"Open In Colab\"/></a>"
      ]
    },
    {
      "cell_type": "code",
      "execution_count": 1,
      "metadata": {
        "colab": {
          "base_uri": "https://localhost:8080/"
        },
        "id": "U5DICRA2Qsqh",
        "outputId": "a4d52a16-e128-4211-9c3a-d2259adbeddb"
      },
      "outputs": [
        {
          "output_type": "stream",
          "name": "stdout",
          "text": [
            "Enter a number:64\n",
            "Number of ones= 1 \n",
            "Number of zeroes= 6\n"
          ]
        }
      ],
      "source": [
        "def numberofbits(n):\n",
        "  ones=0\n",
        "  zeroes=0\n",
        "  while (n):\n",
        "    if (n & 1 ==1):\n",
        "      ones+=1\n",
        "    else:\n",
        "      zeroes+=1\n",
        "    n >>= 1\n",
        "  print(\"Number of ones=\",ones,\"\\nNumber of zeroes=\",zeroes)\n",
        "\n",
        "number=int(input(\"Enter a number:\"))\n",
        "numberofbits(number)\n"
      ]
    },
    {
      "cell_type": "code",
      "source": [
        "def setornot(number, n):\n",
        "  mask=1\n",
        "  if (n & mask) == 1 or (n & mask) ==0:\n",
        "    if number & (1 << (n-1)):\n",
        "      print(\"SET\")\n",
        "    else:\n",
        "      print(\"NOT SET\")\n",
        "number=int(input(\"Enter a number:\"))\n",
        "n=int(input(\"Enter a bit postion:\"))\n",
        "setornot(number,n)"
      ],
      "metadata": {
        "colab": {
          "base_uri": "https://localhost:8080/"
        },
        "id": "mrV1_OKDSqj7",
        "outputId": "513105ee-41a9-4c8e-91f8-cadea81a2a9b"
      },
      "execution_count": 2,
      "outputs": [
        {
          "output_type": "stream",
          "name": "stdout",
          "text": [
            "Enter a number:67\n",
            "Enter a bit postion:9\n",
            "NOT SET\n"
          ]
        }
      ]
    }
  ]
}