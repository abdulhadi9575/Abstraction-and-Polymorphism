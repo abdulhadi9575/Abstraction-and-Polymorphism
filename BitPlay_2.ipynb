{
  "nbformat": 4,
  "nbformat_minor": 0,
  "metadata": {
    "colab": {
      "provenance": [],
      "authorship_tag": "ABX9TyPSqtXYRGSBN7+zt5rkxfNk",
      "include_colab_link": true
    },
    "kernelspec": {
      "name": "python3",
      "display_name": "Python 3"
    },
    "language_info": {
      "name": "python"
    }
  },
  "cells": [
    {
      "cell_type": "markdown",
      "metadata": {
        "id": "view-in-github",
        "colab_type": "text"
      },
      "source": [
        "<a href=\"https://colab.research.google.com/github/abdulhadi9575/Abstraction-and-Polymorphism/blob/main/BitPlay_2.ipynb\" target=\"_parent\"><img src=\"https://colab.research.google.com/assets/colab-badge.svg\" alt=\"Open In Colab\"/></a>"
      ]
    },
    {
      "cell_type": "code",
      "execution_count": 1,
      "metadata": {
        "colab": {
          "base_uri": "https://localhost:8080/"
        },
        "id": "XN_5BBsJajX1",
        "outputId": "224af239-f32f-4941-e1cb-6987938fb6d7"
      },
      "outputs": [
        {
          "output_type": "stream",
          "name": "stdout",
          "text": [
            "Enter first number to compare:2\n",
            "Enter second number to compare:3\n",
            "numbers are not equal\n"
          ]
        }
      ],
      "source": [
        "def checkifsame(number1,number2):\n",
        "  if((number1 ^ number2)!=0):\n",
        "    print(\"numbers are not equal\")\n",
        "  else:\n",
        "    print(\"both numbers are equal\")\n",
        "\n",
        "number1=int(input(\"Enter first number to compare:\"))\n",
        "number2=int(input(\"Enter second number to compare:\"))\n",
        "checkifsame(number1,number2)"
      ]
    },
    {
      "cell_type": "code",
      "source": [
        "def oddoccuring(arr):\n",
        "  res=0\n",
        "  for element in arr:\n",
        "    res=res^element\n",
        "  return res\n",
        "\n",
        "arr=[]\n",
        "n=int(input(\"Enter array size:\"))\n",
        "while(n):\n",
        "  num=int(input(\"Enter a number:\"))\n",
        "  arr.append(num)\n",
        "  n-=1\n",
        "\n",
        "print(\"OddOccuring number is\",oddoccuring(arr))"
      ],
      "metadata": {
        "id": "m57PgwWob6_p"
      },
      "execution_count": null,
      "outputs": []
    },
    {
      "cell_type": "code",
      "source": [
        "from os import set_blocking\n",
        "def twoodd(arr,size):\n",
        "  xorof2=arr[0]\n",
        "  x=0\n",
        "  y=0\n",
        "  SetBit=0\n",
        "  for i in range(1,size):\n",
        "    xorof2=xorof2^arr[i]\n",
        "  SetBit=xorof2 & ~(xorof2-1)\n",
        "  for i in range(size):\n",
        "    if(arr[i]&SetBit):\n",
        "      x=x^arr[i]\n",
        "    else:\n",
        "      y=y^arr[i]\n",
        "  print(\"TwoOdd elements are\",x,\"&\",y)\n",
        "\n",
        "arr=[]\n",
        "arr_size=int(input(\"Enter the size of the array\"))\n",
        "for i in range(0,arr_size):\n",
        "  z=int(input(\"Enter the element\"))\n",
        "  arr.append(z)\n",
        "\n",
        "print(\"TwoOdd\")"
      ],
      "metadata": {
        "id": "rzAP6KdgdZmF"
      },
      "execution_count": null,
      "outputs": []
    }
  ]
}