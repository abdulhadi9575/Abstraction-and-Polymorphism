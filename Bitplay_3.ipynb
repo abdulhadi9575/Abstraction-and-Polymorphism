{
  "nbformat": 4,
  "nbformat_minor": 0,
  "metadata": {
    "colab": {
      "provenance": [],
      "authorship_tag": "ABX9TyNWGFkVu9TC2L2980Ck9VAA",
      "include_colab_link": true
    },
    "kernelspec": {
      "name": "python3",
      "display_name": "Python 3"
    },
    "language_info": {
      "name": "python"
    }
  },
  "cells": [
    {
      "cell_type": "markdown",
      "metadata": {
        "id": "view-in-github",
        "colab_type": "text"
      },
      "source": [
        "<a href=\"https://colab.research.google.com/github/abdulhadi9575/Abstraction-and-Polymorphism/blob/main/Bitplay_3.ipynb\" target=\"_parent\"><img src=\"https://colab.research.google.com/assets/colab-badge.svg\" alt=\"Open In Colab\"/></a>"
      ]
    },
    {
      "cell_type": "code",
      "execution_count": 1,
      "metadata": {
        "colab": {
          "base_uri": "https://localhost:8080/"
        },
        "id": "lSoOmbNtawDT",
        "outputId": "dd4f4622-a642-4852-edce-639b4293f322"
      },
      "outputs": [
        {
          "output_type": "stream",
          "name": "stdout",
          "text": [
            "After swapping: a= 20 and b= 10\n"
          ]
        }
      ],
      "source": [
        "def swap(a,b):\n",
        "  a=a^b\n",
        "  b=a^b\n",
        "  a=a^b\n",
        "  print(\"After swapping: a=\",a,\"and b=\",b)\n",
        "swap(10,20)"
      ]
    },
    {
      "cell_type": "code",
      "source": [
        "def divide(ourdividend, ourdivisor):\n",
        "  sing=(-1 if((ourdividend < 0)^(ourdivisor < 0))else 1);\n",
        "  ourdividend=abs(ourdividend);\n",
        "  ourdivisor=abs(ourdivisor);\n",
        "\n",
        "  quotientnumber=0\n",
        "  tempnumber=0\n",
        "  for i in range(31,-1,-1):\n",
        "    if (tempnumber + (ourdivisor << i)<= ourdividend):\n",
        "      tempnumber += ourdivisor << i\n",
        "      quotientnumber |= 1 << i\n",
        "    return quotientnumber * sing\n",
        "\n",
        "a=int(input(\"Enter a for a/b:\"))\n",
        "b=int(input(\"Enter b for a/b:\"))\n",
        "print(\"result of\",a,\"/\",b,\"is\",divide(a,b))\n"
      ],
      "metadata": {
        "colab": {
          "base_uri": "https://localhost:8080/"
        },
        "id": "BHhXACNndvrZ",
        "outputId": "b18c08e0-9ee8-4888-bc4a-2039ddc28159"
      },
      "execution_count": 5,
      "outputs": [
        {
          "output_type": "stream",
          "name": "stdout",
          "text": [
            "Enter a for a/b:8\n",
            "Enter b for a/b:2\n",
            "result of 8 / 2 is 0\n"
          ]
        }
      ]
    },
    {
      "cell_type": "code",
      "source": [
        "def divide(ourdividend, ourDivisor):\n",
        "  sign = (-1 if((ourdividend < 0) ^ (ourDivisor < 0)) else 1);\n",
        "  ourdividend = abs(ourdividend);\n",
        "  ourDivisor = abs(ourDivisor);\n",
        "\n",
        "  quotientNumber = 0\n",
        "  tempNumber = 0\n",
        "  for i in range(31, -1, -1):\n",
        "    if (tempNumber + (ourDivisor << i) <= ourdividend):\n",
        "      tempNumber += ourDivisor << i\n",
        "      quotientNumber |= 1 << i\n",
        "  if sign == -1:\n",
        "    quotientNumber = -quotientNumber\n",
        "  return quotientNumber\n",
        "\n",
        "a = int(input(\"Enter a for a/b: \"))\n",
        "b = int(input(\"Enter b for a/b: \"))\n",
        "print(\"Result of\", a, \"/\", b, \"is\", divide(a, b))"
      ],
      "metadata": {
        "colab": {
          "base_uri": "https://localhost:8080/"
        },
        "id": "TP3kR4NKh85-",
        "outputId": "80a8bd68-a4de-4ed8-a9ca-6118aa9b95ef"
      },
      "execution_count": 7,
      "outputs": [
        {
          "output_type": "stream",
          "name": "stdout",
          "text": [
            "Enter a for a/b: 30\n",
            "Enter b for a/b: 9\n",
            "Result of 30 / 9 is 3\n"
          ]
        }
      ]
    },
    {
      "cell_type": "code",
      "source": [
        "def numberOfBits(n):\n",
        "  ones = 0\n",
        "  zeroes= 0\n",
        "  while (n):\n",
        "      if (n & 1 == 1):\n",
        "          ones += 1\n",
        "      else:\n",
        "          zeroes += 1\n",
        "      n >>= 1\n",
        "  print(\"Number of ones =\", ones, \"\\nNumber of zeroes =\", zeroes)\n",
        "\n",
        "number = int(input(\"Enter your number: \"))\n",
        "numberOfBits(number)"
      ],
      "metadata": {
        "id": "4mWuslGGx_-v"
      },
      "execution_count": null,
      "outputs": []
    }
  ]
}