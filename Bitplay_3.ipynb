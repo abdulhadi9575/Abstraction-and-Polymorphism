{
  "nbformat": 4,
  "nbformat_minor": 0,
  "metadata": {
    "colab": {
      "provenance": [],
      "authorship_tag": "ABX9TyPl9byt/PS+20CV1F9ALRyn",
      "include_colab_link": true
    },
    "kernelspec": {
      "name": "python3",
      "display_name": "Python 3"
    },
    "language_info": {
      "name": "python"
    }
  },
  "cells": [
    {
      "cell_type": "markdown",
      "metadata": {
        "id": "view-in-github",
        "colab_type": "text"
      },
      "source": [
        "<a href=\"https://colab.research.google.com/github/abdulhadi9575/Abstraction-and-Polymorphism/blob/main/Bitplay_3.ipynb\" target=\"_parent\"><img src=\"https://colab.research.google.com/assets/colab-badge.svg\" alt=\"Open In Colab\"/></a>"
      ]
    },
    {
      "cell_type": "code",
      "execution_count": 1,
      "metadata": {
        "colab": {
          "base_uri": "https://localhost:8080/"
        },
        "id": "lSoOmbNtawDT",
        "outputId": "dd4f4622-a642-4852-edce-639b4293f322"
      },
      "outputs": [
        {
          "output_type": "stream",
          "name": "stdout",
          "text": [
            "After swapping: a= 20 and b= 10\n"
          ]
        }
      ],
      "source": [
        "def swap(a,b):\n",
        "  a=a^b\n",
        "  b=a^b\n",
        "  a=a^b\n",
        "  print(\"After swapping: a=\",a,\"and b=\",b)\n",
        "swap(10,20)"
      ]
    },
    {
      "cell_type": "code",
      "source": [
        "def divide(ourdividend, ourdivisor):\n",
        "  sing=(-1 if((ourdividend < 0)^(ourdivisor < 0))else 1);\n",
        "  ourdividend=abs(ourdividend);\n",
        "  ourdivisor=abs(ourdivisor);\n",
        "\n",
        "  quotientnumber=0\n",
        "  tempnumber=0\n",
        "  for i in range(31,-1,-1):\n",
        "    if (tempnumber + (ourdivisor << i)<= ourdividend):\n",
        "      tempnumber += ourdivisor << i\n",
        "      quotientnumber |= 1 << i\n",
        "    return quotientnumber\n",
        "\n",
        "a=int(input(\"Enter a for a/b:\"))\n",
        "b=int(input(\"Enter b for a/b:\"))\n",
        "print(\"result of\",a,\"/\",b,\"is\",divide(a,b))\n"
      ],
      "metadata": {
        "colab": {
          "base_uri": "https://localhost:8080/"
        },
        "id": "BHhXACNndvrZ",
        "outputId": "d817c3bc-41f2-45b7-9417-08a9cf61705b"
      },
      "execution_count": 2,
      "outputs": [
        {
          "output_type": "stream",
          "name": "stdout",
          "text": [
            "Enter a for a/b:5\n",
            "Enter b for a/b:3\n",
            "result of 5 / 3 is 0\n"
          ]
        }
      ]
    }
  ]
}