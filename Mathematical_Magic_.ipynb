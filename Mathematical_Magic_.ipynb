{
  "nbformat": 4,
  "nbformat_minor": 0,
  "metadata": {
    "colab": {
      "provenance": [],
      "authorship_tag": "ABX9TyO0rRfoQ8xV7GH4NXO7ov4/",
      "include_colab_link": true
    },
    "kernelspec": {
      "name": "python3",
      "display_name": "Python 3"
    },
    "language_info": {
      "name": "python"
    }
  },
  "cells": [
    {
      "cell_type": "markdown",
      "metadata": {
        "id": "view-in-github",
        "colab_type": "text"
      },
      "source": [
        "<a href=\"https://colab.research.google.com/github/abdulhadi9575/Abstraction-and-Polymorphism/blob/main/Mathematical_Magic_.ipynb\" target=\"_parent\"><img src=\"https://colab.research.google.com/assets/colab-badge.svg\" alt=\"Open In Colab\"/></a>"
      ]
    },
    {
      "cell_type": "code",
      "execution_count": 4,
      "metadata": {
        "id": "zp4b7IUBE7T5",
        "colab": {
          "base_uri": "https://localhost:8080/"
        },
        "outputId": "e7fbeffa-4804-4eaa-985b-5d2b536b9803"
      },
      "outputs": [
        {
          "output_type": "stream",
          "name": "stdout",
          "text": [
            "Input Enter a number:7\n",
            "343\n",
            "7 is not an armstrong number\n"
          ]
        }
      ],
      "source": [
        "number=int(input(\"Input Enter a number:\"))\n",
        "result=0\n",
        "temp=number\n",
        "while temp!=0:\n",
        "  digit=temp%10\n",
        "  result=result+digit**3\n",
        "  temp=temp//10\n",
        "print(result)\n",
        "if number==result:\n",
        "  print(number,\"is an armstrong number\")\n",
        "else:\n",
        "  print(number,\"is not an armstrong number\")"
      ]
    },
    {
      "cell_type": "code",
      "source": [
        "def print_factor(number):\n",
        "  print(\"The factors of\",number,\"are:\")\n",
        "  for i in range(1,number+1):\n",
        "    if number % i ==0:\n",
        "      print(i)\n",
        "number=int(input(\"Enter a number:\"))\n",
        "print_factor(number)"
      ],
      "metadata": {
        "id": "WoqQQ6f9Jva9",
        "colab": {
          "base_uri": "https://localhost:8080/"
        },
        "outputId": "5cdc1ead-9d81-4398-dc38-0d4d12180529"
      },
      "execution_count": 5,
      "outputs": [
        {
          "output_type": "stream",
          "name": "stdout",
          "text": [
            "Enter a number:56\n",
            "The factors of 56 are:\n",
            "1\n",
            "2\n",
            "4\n",
            "7\n",
            "8\n",
            "14\n",
            "28\n",
            "56\n"
          ]
        }
      ]
    }
  ]
}