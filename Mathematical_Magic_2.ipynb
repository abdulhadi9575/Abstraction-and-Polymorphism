{
  "nbformat": 4,
  "nbformat_minor": 0,
  "metadata": {
    "colab": {
      "provenance": [],
      "authorship_tag": "ABX9TyPKI9l8K12XBHVCYsWj/1SZ",
      "include_colab_link": true
    },
    "kernelspec": {
      "name": "python3",
      "display_name": "Python 3"
    },
    "language_info": {
      "name": "python"
    }
  },
  "cells": [
    {
      "cell_type": "markdown",
      "metadata": {
        "id": "view-in-github",
        "colab_type": "text"
      },
      "source": [
        "<a href=\"https://colab.research.google.com/github/abdulhadi9575/Abstraction-and-Polymorphism/blob/main/Mathematical_Magic_2.ipynb\" target=\"_parent\"><img src=\"https://colab.research.google.com/assets/colab-badge.svg\" alt=\"Open In Colab\"/></a>"
      ]
    },
    {
      "cell_type": "code",
      "execution_count": 3,
      "metadata": {
        "colab": {
          "base_uri": "https://localhost:8080/"
        },
        "id": "z0ZNqwNrJJOC",
        "outputId": "bcd6e580-aa98-4c7a-9eda-94375b623b5e"
      },
      "outputs": [
        {
          "output_type": "stream",
          "name": "stdout",
          "text": [
            "Enter your number\n",
            "15\n",
            "15 is not prime\n"
          ]
        }
      ],
      "source": [
        "from math import sqrt\n",
        "number=int(input(\"Enter your number\\n\"))\n",
        "if number>1:\n",
        "  for i in range(2,int(sqrt(number))+1):\n",
        "    if(number%i==0):\n",
        "      print(number,\"is not prime\")\n",
        "      break\n",
        "  else:\n",
        "    print(number,\"is prime\")\n",
        "else:\n",
        "  print(number,\"is not prime\")"
      ]
    },
    {
      "cell_type": "code",
      "source": [
        "def primeseive(n):\n",
        "  prime=[True for i in range(n+1)]\n",
        "  currentNumber=2\n",
        "  while(currentNumber*currentNumber <=n):\n",
        "    if(prime[currentNumber]==True):\n",
        "      for i in range(currentNumber**2,n+1,currentNumber):\n",
        "        prime[i]=False\n",
        "    currentNumber+=1\n",
        "  prime[0]=False\n",
        "  prime[1]=False\n",
        "  for p in range(n+1):\n",
        "    if prime[p]:\n",
        "      print(p)\n",
        "\n",
        "n=int(input(\"Enter number to find all prime numbers less than the number:\"))\n",
        "primeseive(n)\n",
        "print(\"Following are the prime numbers smaller.\")\n",
        "print(\"than or equal to\")"
      ],
      "metadata": {
        "colab": {
          "base_uri": "https://localhost:8080/"
        },
        "id": "sYrnMZyYMPWy",
        "outputId": "005ef0b4-8f7b-45f7-9671-6dcbfa091718"
      },
      "execution_count": 5,
      "outputs": [
        {
          "output_type": "stream",
          "name": "stdout",
          "text": [
            "Enter number to find all prime numbers less than the number:2\n",
            "2\n",
            "Following are the prime numbers smaller.\n",
            "than or equal to\n"
          ]
        }
      ]
    },
    {
      "cell_type": "code",
      "source": [
        "a=3000\n",
        "for num in range(1,a+1):\n",
        "  c=0\n",
        "  rev=0\n",
        "  temp=num\n",
        "  for i in range(1,temp+1):\n",
        "    if temp%i==0:\n",
        "      c+=1\n",
        "  if c==2:\n",
        "    while temp>0:\n",
        "      rev=rev*10+(temp%10)\n",
        "      temp //=10\n",
        "    if rev==num:\n",
        "      print(num)"
      ],
      "metadata": {
        "colab": {
          "base_uri": "https://localhost:8080/"
        },
        "id": "wihviVRuPlSC",
        "outputId": "e0410667-7dae-42e3-8fdc-08a885174310"
      },
      "execution_count": 6,
      "outputs": [
        {
          "output_type": "stream",
          "name": "stdout",
          "text": [
            "2\n",
            "3\n",
            "5\n",
            "7\n",
            "11\n",
            "101\n",
            "131\n",
            "151\n",
            "181\n",
            "191\n",
            "313\n",
            "353\n",
            "373\n",
            "383\n",
            "727\n",
            "757\n",
            "787\n",
            "797\n",
            "919\n",
            "929\n"
          ]
        }
      ]
    }
  ]
}