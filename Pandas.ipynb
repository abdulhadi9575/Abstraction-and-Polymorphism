{
  "nbformat": 4,
  "nbformat_minor": 0,
  "metadata": {
    "colab": {
      "provenance": [],
      "authorship_tag": "ABX9TyOApfdcsyjEIi1WUIx2rlyS",
      "include_colab_link": true
    },
    "kernelspec": {
      "name": "python3",
      "display_name": "Python 3"
    },
    "language_info": {
      "name": "python"
    }
  },
  "cells": [
    {
      "cell_type": "markdown",
      "metadata": {
        "id": "view-in-github",
        "colab_type": "text"
      },
      "source": [
        "<a href=\"https://colab.research.google.com/github/abdulhadi9575/Abstraction-and-Polymorphism/blob/main/Pandas.ipynb\" target=\"_parent\"><img src=\"https://colab.research.google.com/assets/colab-badge.svg\" alt=\"Open In Colab\"/></a>"
      ]
    },
    {
      "cell_type": "code",
      "execution_count": 1,
      "metadata": {
        "colab": {
          "base_uri": "https://localhost:8080/"
        },
        "id": "nMwZLXa8qQuh",
        "outputId": "8d7315c1-5a67-4d9c-f2b5-c43892762ace"
      },
      "outputs": [
        {
          "output_type": "stream",
          "name": "stdout",
          "text": [
            "summary of the basic information about this dataframe and it's data:\n",
            "<class 'pandas.core.frame.DataFrame'>\n",
            "Index: 10 entries, a to j\n",
            "Data columns (total 4 columns):\n",
            " #   Column    Non-Null Count  Dtype  \n",
            "---  ------    --------------  -----  \n",
            " 0   name      10 non-null     object \n",
            " 1   score     8 non-null      float64\n",
            " 2   attempts  10 non-null     int64  \n",
            " 3   qualify   10 non-null     object \n",
            "dtypes: float64(1), int64(1), object(2)\n",
            "memory usage: 400.0+ bytes\n",
            "None\n"
          ]
        }
      ],
      "source": [
        "import pandas as pd\n",
        "import numpy as np\n",
        "\n",
        "exam_data={'name':['anastasia','dima','katherine','james','emily','micheal','matthew','laura','kevin','jonas'],\n",
        "           'score':[12.5,9,16.5,np.nan,9,20,14.5,np.nan,8,19],\n",
        "           'attempts':[1,3,2,3,2,3,1,1,2,1],\n",
        "           'qualify':['yes','no','yes','no','no','yes','yes','no','no','yes']}\n",
        "\n",
        "labels=['a','b','c','d','e','f','g','h','i','j']\n",
        "\n",
        "df=pd.DataFrame(exam_data,index=labels)\n",
        "print(\"summary of the basic information about this dataframe and it's data:\")\n",
        "print(df.info())"
      ]
    }
  ]
}