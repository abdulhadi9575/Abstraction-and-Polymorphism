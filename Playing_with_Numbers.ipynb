{
  "nbformat": 4,
  "nbformat_minor": 0,
  "metadata": {
    "colab": {
      "provenance": [],
      "authorship_tag": "ABX9TyOYX5FhIVyu1GesJnBrxe48",
      "include_colab_link": true
    },
    "kernelspec": {
      "name": "python3",
      "display_name": "Python 3"
    },
    "language_info": {
      "name": "python"
    }
  },
  "cells": [
    {
      "cell_type": "markdown",
      "metadata": {
        "id": "view-in-github",
        "colab_type": "text"
      },
      "source": [
        "<a href=\"https://colab.research.google.com/github/abdulhadi9575/Abstraction-and-Polymorphism/blob/main/Playing_with_Numbers.ipynb\" target=\"_parent\"><img src=\"https://colab.research.google.com/assets/colab-badge.svg\" alt=\"Open In Colab\"/></a>"
      ]
    },
    {
      "cell_type": "code",
      "execution_count": 1,
      "metadata": {
        "colab": {
          "base_uri": "https://localhost:8080/"
        },
        "id": "LSX-pT8YRWA7",
        "outputId": "24a72096-7232-4f3b-f7bc-0251572868d0"
      },
      "outputs": [
        {
          "output_type": "stream",
          "name": "stdout",
          "text": [
            "Enter your number:89\n",
            "89is not a palindrome\n"
          ]
        }
      ],
      "source": [
        "number=int(input(\"Enter your number:\"))\n",
        "\n",
        "original_number=number\n",
        "reversed_number=0\n",
        "\n",
        "while number > 0:\n",
        "  digit=number%10\n",
        "  reversed_number=reversed_number*10+digit\n",
        "  number //=10\n",
        "\n",
        "if original_number==reversed_number:\n",
        "  print(f\"{original_number}is a palindrome\")\n",
        "else:\n",
        "  print(f\"{original_number}is not a palindrome\")"
      ]
    },
    {
      "cell_type": "code",
      "source": [
        "numberLargest=int(input(\"Enter the largest number: \"))\n",
        "numberSmallest=int(input(\"Enter the smallest number:\"))\n",
        "while numberSmallest:\n",
        "  numberStore=numberSmallest\n",
        "  numberSmallest=numberLargest % numberSmallest\n",
        "  numberLargest=numberStore\n",
        "\n",
        "print(\"HCF is:\", numberLargest)"
      ],
      "metadata": {
        "colab": {
          "base_uri": "https://localhost:8080/"
        },
        "id": "qOalwik5UXAB",
        "outputId": "a2ac3e73-81ff-48a4-8347-e7e0972ed91f"
      },
      "execution_count": 4,
      "outputs": [
        {
          "output_type": "stream",
          "name": "stdout",
          "text": [
            "Enter the largest number: 15\n",
            "Enter the smallest number:3\n",
            "HCF is: 3\n"
          ]
        }
      ]
    }
  ]
}