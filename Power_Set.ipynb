{
  "nbformat": 4,
  "nbformat_minor": 0,
  "metadata": {
    "colab": {
      "provenance": [],
      "authorship_tag": "ABX9TyPi6PYukOXXZj88Q2C6bYvN",
      "include_colab_link": true
    },
    "kernelspec": {
      "name": "python3",
      "display_name": "Python 3"
    },
    "language_info": {
      "name": "python"
    }
  },
  "cells": [
    {
      "cell_type": "markdown",
      "metadata": {
        "id": "view-in-github",
        "colab_type": "text"
      },
      "source": [
        "<a href=\"https://colab.research.google.com/github/abdulhadi9575/Abstraction-and-Polymorphism/blob/main/Power_Set.ipynb\" target=\"_parent\"><img src=\"https://colab.research.google.com/assets/colab-badge.svg\" alt=\"Open In Colab\"/></a>"
      ]
    },
    {
      "cell_type": "code",
      "execution_count": 2,
      "metadata": {
        "colab": {
          "base_uri": "https://localhost:8080/"
        },
        "id": "KpCb8tqBSD9L",
        "outputId": "17eaf71a-3f13-4d5a-db98-11aa3feb1a2f"
      },
      "outputs": [
        {
          "output_type": "stream",
          "name": "stdout",
          "text": [
            "Enter first number:3\n",
            "Enter second number:4\n",
            "Number of flips needed: 3\n"
          ]
        }
      ],
      "source": [
        "def flips(num1,num2):\n",
        "  flip=0\n",
        "  while (num1 > 0 or num2 > 0):\n",
        "    t1=num1 & 1\n",
        "    t2=num2 & 1\n",
        "    if t1 != t2:\n",
        "      flip += 1\n",
        "    num1 >>= 1\n",
        "    num2 >>= 1\n",
        "  return flip\n",
        "num1=int(input(\"Enter first number:\"))\n",
        "num2=int(input(\"Enter second number:\"))\n",
        "print(\"Number of flips needed:\",flips(num1,num2))"
      ]
    },
    {
      "cell_type": "code",
      "source": [
        "import math;\n",
        "\n",
        "def abc(set,setsize):\n",
        "  powersetsize=(int)(math.pow(2,setsize));\n",
        "  outer=0;\n",
        "  inner=0;\n",
        "\n",
        "  for outer in range(0,powersetsize):\n",
        "    for inner in range(0,setsize):\n",
        "      if((outer & (1 << inner)) > 0):\n",
        "        print(set[inner],end=\"\")\n",
        "    print(\"\")\n",
        "size=int(input(\"Enter array size:\"))\n",
        "\n",
        "set=[]\n",
        "for i in range(0,size):\n",
        "  n=int(input(\"Enter element : \"))\n",
        "  set.append(n)\n",
        "\n",
        "abc(set,len(set))"
      ],
      "metadata": {
        "colab": {
          "base_uri": "https://localhost:8080/"
        },
        "id": "dW7wq9cqWPoh",
        "outputId": "036b0f77-20bd-4eb4-96df-866e500342b0"
      },
      "execution_count": 1,
      "outputs": [
        {
          "output_type": "stream",
          "name": "stdout",
          "text": [
            "Enter array size:3\n",
            "Enter element : 1\n",
            "Enter element : 2\n",
            "Enter element : 3\n",
            "\n",
            "1\n",
            "2\n",
            "12\n",
            "3\n",
            "13\n",
            "23\n",
            "123\n"
          ]
        }
      ]
    }
  ]
}