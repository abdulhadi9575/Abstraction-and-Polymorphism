{
  "nbformat": 4,
  "nbformat_minor": 0,
  "metadata": {
    "colab": {
      "provenance": [],
      "authorship_tag": "ABX9TyO8ytmmREQPxBdT5whTtpY4",
      "include_colab_link": true
    },
    "kernelspec": {
      "name": "python3",
      "display_name": "Python 3"
    },
    "language_info": {
      "name": "python"
    }
  },
  "cells": [
    {
      "cell_type": "markdown",
      "metadata": {
        "id": "view-in-github",
        "colab_type": "text"
      },
      "source": [
        "<a href=\"https://colab.research.google.com/github/abdulhadi9575/Abstraction-and-Polymorphism/blob/main/Surging_with_Power!!.ipynb\" target=\"_parent\"><img src=\"https://colab.research.google.com/assets/colab-badge.svg\" alt=\"Open In Colab\"/></a>"
      ]
    },
    {
      "cell_type": "code",
      "execution_count": 12,
      "metadata": {
        "colab": {
          "base_uri": "https://localhost:8080/"
        },
        "id": "1O49qw1lQ7x7",
        "outputId": "99c7ad53-4876-4eca-e3a6-3f390e540902"
      },
      "outputs": [
        {
          "output_type": "stream",
          "name": "stdout",
          "text": [
            "Enter a number:2\n",
            "\n",
            "The number is a power of 2\n"
          ]
        }
      ],
      "source": [
        "def power2(number):\n",
        "  if number <=0:\n",
        "    return False\n",
        "  return(number & (number-1))==0\n",
        "\n",
        "n=int(input(\"Enter a number:\"))\n",
        "if power2(n):\n",
        "  print(\"\\nThe number is a power of 2\")\n",
        "else:\n",
        "  print(\"\\nThe number is not a power of 2\")"
      ]
    },
    {
      "cell_type": "code",
      "source": [
        "def abc(x):\n",
        "  if(x == 0):\n",
        "    return False\n",
        "\n",
        "  else:\n",
        "    while(x%2==0):\n",
        "      x/= 2\n",
        "  return(x==1)\n",
        "abc(7)\n",
        "abc(2)\n"
      ],
      "metadata": {
        "colab": {
          "base_uri": "https://localhost:8080/"
        },
        "id": "U7LAFiP6SnbU",
        "outputId": "b5f0266f-0df7-4228-9a3b-fced1e14578d"
      },
      "execution_count": 9,
      "outputs": [
        {
          "output_type": "execute_result",
          "data": {
            "text/plain": [
              "True"
            ]
          },
          "metadata": {},
          "execution_count": 9
        }
      ]
    },
    {
      "cell_type": "code",
      "source": [
        "def abc(x):\n",
        "  if(x == 0):\n",
        "    return False\n",
        "\n",
        "  else:\n",
        "    while(x%4==0):\n",
        "      x/= 2\n",
        "  return(x==1)\n",
        "abc(7)\n",
        "abc(2)"
      ],
      "metadata": {
        "colab": {
          "base_uri": "https://localhost:8080/"
        },
        "id": "dDMP-pWGTuLv",
        "outputId": "1ab8625b-774d-4c18-da7b-875ef36ea840"
      },
      "execution_count": 10,
      "outputs": [
        {
          "output_type": "execute_result",
          "data": {
            "text/plain": [
              "False"
            ]
          },
          "metadata": {},
          "execution_count": 10
        }
      ]
    },
    {
      "cell_type": "code",
      "source": [
        "from os import register_at_fork\n",
        "def abc(x,y):\n",
        "  result=1\n",
        "  while y>0:\n",
        "    if(y%2==0):\n",
        "      x=x*x\n",
        "      y>>=1\n",
        "    else:\n",
        "      result=result * x\n",
        "      y=y-1\n",
        "  return result\n",
        "x=int(input(\"Enter x for x^y:\"))\n",
        "y=int(input(\"Enter y for x^y:\"))\n",
        "print(\"Total:\",(abc(x,y)))"
      ],
      "metadata": {
        "colab": {
          "base_uri": "https://localhost:8080/"
        },
        "id": "IdC7sIolUQZ0",
        "outputId": "5281b6ad-1894-4ec2-dfb8-917210163272"
      },
      "execution_count": 11,
      "outputs": [
        {
          "output_type": "stream",
          "name": "stdout",
          "text": [
            "Enter x for x^y:2\n",
            "Enter y for x^y:3\n",
            "Total: 8\n"
          ]
        }
      ]
    }
  ]
}