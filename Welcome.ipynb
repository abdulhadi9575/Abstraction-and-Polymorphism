{
  "nbformat": 4,
  "nbformat_minor": 0,
  "metadata": {
    "colab": {
      "provenance": [],
      "authorship_tag": "ABX9TyNo2sJzX2kGyhIRl43OwWVX",
      "include_colab_link": true
    },
    "kernelspec": {
      "name": "python3",
      "display_name": "Python 3"
    },
    "language_info": {
      "name": "python"
    }
  },
  "cells": [
    {
      "cell_type": "markdown",
      "metadata": {
        "id": "view-in-github",
        "colab_type": "text"
      },
      "source": [
        "<a href=\"https://colab.research.google.com/github/abdulhadi9575/Abstraction-and-Polymorphism/blob/main/Welcome.ipynb\" target=\"_parent\"><img src=\"https://colab.research.google.com/assets/colab-badge.svg\" alt=\"Open In Colab\"/></a>"
      ]
    },
    {
      "cell_type": "code",
      "execution_count": 1,
      "metadata": {
        "colab": {
          "base_uri": "https://localhost:8080/"
        },
        "id": "hZkXxTfxEwws",
        "outputId": "5569c673-0005-41a2-a6a7-fddd0f22df3c"
      },
      "outputs": [
        {
          "output_type": "stream",
          "name": "stdout",
          "text": [
            "Original array\n",
            "[(b'james', 5, 48.5 ) (b'Nail', 6, 52.5 ) (b'Paul', 5, 40.11)]\n",
            "Sort by height\n",
            "[(b'Paul', 5, 40.11) (b'james', 5, 48.5 ) (b'Nail', 6, 52.5 )]\n"
          ]
        }
      ],
      "source": [
        "import numpy as np\n",
        "data_type=[('name','S15'),('class',int),('height',float)]\n",
        "student_details=[('james',5,48.5),('Nail',6,52.5),('Paul',5,40.11)]\n",
        "students=np.array(student_details,dtype=data_type)\n",
        "print(\"Original array\")\n",
        "print(students)\n",
        "print(\"Sort by height\")\n",
        "print(np.sort(students,order='height'))"
      ]
    },
    {
      "cell_type": "code",
      "source": [],
      "metadata": {
        "id": "r9DoKC36HJqW"
      },
      "execution_count": null,
      "outputs": []
    }
  ]
}