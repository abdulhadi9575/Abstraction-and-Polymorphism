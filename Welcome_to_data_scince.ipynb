{
  "nbformat": 4,
  "nbformat_minor": 0,
  "metadata": {
    "colab": {
      "provenance": [],
      "authorship_tag": "ABX9TyMLjpxzc54dLAbBel714Fnq",
      "include_colab_link": true
    },
    "kernelspec": {
      "name": "python3",
      "display_name": "Python 3"
    },
    "language_info": {
      "name": "python"
    }
  },
  "cells": [
    {
      "cell_type": "markdown",
      "metadata": {
        "id": "view-in-github",
        "colab_type": "text"
      },
      "source": [
        "<a href=\"https://colab.research.google.com/github/abdulhadi9575/Abstraction-and-Polymorphism/blob/main/Welcome_to_data_scince.ipynb\" target=\"_parent\"><img src=\"https://colab.research.google.com/assets/colab-badge.svg\" alt=\"Open In Colab\"/></a>"
      ]
    },
    {
      "cell_type": "code",
      "execution_count": 1,
      "metadata": {
        "id": "rTRbVphVvURw",
        "colab": {
          "base_uri": "https://localhost:8080/"
        },
        "outputId": "108cb944-5626-422a-8fe9-15a1559fb8dd"
      },
      "outputs": [
        {
          "output_type": "stream",
          "name": "stdout",
          "text": [
            "Orignal array:\n",
            "[(b'james', 5, 48.5 ) (b'nail', 6, 52.5 ) (b'paul', 5, 42.1 )\n",
            " (b'pit', 5, 40.11)]\n",
            "Sort by height\n",
            "[(b'pit', 5, 40.11) (b'paul', 5, 42.1 ) (b'james', 5, 48.5 )\n",
            " (b'nail', 6, 52.5 )]\n"
          ]
        }
      ],
      "source": [
        "import numpy as np\n",
        "\n",
        "data_type=[('name', 'S15'),('class',int),('height', float)]\n",
        "students_details = [('james',5,48.5), ('nail',6,52.5),('paul',5,42.10),('pit',5,40.11)]\n",
        "\n",
        "students=np.array(students_details,dtype=data_type)\n",
        "print(\"Orignal array:\")\n",
        "print(students)\n",
        "print(\"Sort by height\")\n",
        "print(np.sort(students,order='height'))\n"
      ]
    }
  ]
}